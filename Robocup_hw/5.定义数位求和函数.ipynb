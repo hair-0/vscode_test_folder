{
 "cells": [
  {
   "cell_type": "code",
   "execution_count": 1,
   "metadata": {},
   "outputs": [
    {
     "name": "stdout",
     "output_type": "stream",
     "text": [
      "输入29的结果： 2\n"
     ]
    }
   ],
   "source": [
    "# 5.定义数位求和函数\n",
    "def THU(n):\n",
    "    while n>=10:\n",
    "        n=sum(int(digit)for digit in str(n))\n",
    "    return(n)\n",
    "\n",
    "print(\"输入29的结果：\",THU(29))"
   ]
  }
 ],
 "metadata": {
  "kernelspec": {
   "display_name": "Python 3",
   "language": "python",
   "name": "python3"
  },
  "language_info": {
   "codemirror_mode": {
    "name": "ipython",
    "version": 3
   },
   "file_extension": ".py",
   "mimetype": "text/x-python",
   "name": "python",
   "nbconvert_exporter": "python",
   "pygments_lexer": "ipython3",
   "version": "3.12.6"
  }
 },
 "nbformat": 4,
 "nbformat_minor": 2
}
