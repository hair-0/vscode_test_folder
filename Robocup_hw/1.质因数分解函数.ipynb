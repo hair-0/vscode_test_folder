{
 "cells": [
  {
   "cell_type": "code",
   "execution_count": null,
   "metadata": {},
   "outputs": [
    {
     "name": "stdout",
     "output_type": "stream",
     "text": [
      "90的质因数分解结果: [2, 3, 3, 5]\n",
      "100的质因数分解结果： [2, 2, 5]\n"
     ]
    }
   ],
   "source": [
    "#1.质因数分解函数\n",
    "def prime_factor(n):\n",
    "    factors=[]\n",
    "    i=2\n",
    "    while i*i<=n:\n",
    "        if n%i:\n",
    "            i+=1\n",
    "        else:\n",
    "            n//=i\n",
    "            factors.append(i)\n",
    "    if n<i:\n",
    "        factors.append(n)\n",
    "    return factors\n",
    "\n",
    "print(\"90的质因数分解结果:\",prime_factor(90))\n",
    "print(\"100的质因数分解结果：\",prime_factor(100))"
   ]
  }
 ],
 "metadata": {
  "kernelspec": {
   "display_name": "Python 3",
   "language": "python",
   "name": "python3"
  },
  "language_info": {
   "codemirror_mode": {
    "name": "ipython",
    "version": 3
   },
   "file_extension": ".py",
   "mimetype": "text/x-python",
   "name": "python",
   "nbconvert_exporter": "python",
   "pygments_lexer": "ipython3",
   "version": "3.12.6"
  }
 },
 "nbformat": 4,
 "nbformat_minor": 2
}
