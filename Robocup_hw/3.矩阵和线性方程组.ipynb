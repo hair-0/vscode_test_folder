{
 "cells": [
  {
   "cell_type": "code",
   "execution_count": 1,
   "metadata": {},
   "outputs": [
    {
     "name": "stdout",
     "output_type": "stream",
     "text": [
      "特征值： [2.+0.j         2.+1.73205081j 2.-1.73205081j]\n",
      "特征向量： [[ 0.        +0.j    -0.21650635+0.375j -0.21650635-0.375j]\n",
      " [ 0.        +0.j    -0.8660254 +0.j    -0.8660254 -0.j   ]\n",
      " [ 1.        +0.j     0.21650635+0.125j  0.21650635-0.125j]]\n",
      "线性方程组的解： [-0.14285714  0.14285714  0.07142857]\n"
     ]
    }
   ],
   "source": [
    "# 3.矩阵和线性方程组\n",
    "import numpy as np\n",
    "\n",
    "A=np.array([[1,1,0],[-4,3,0],[1,0,2]])\n",
    "b=np.array([0,1,0])\n",
    "\n",
    "eigenvalues,eigenvectors=np.linalg.eig(A)\n",
    "print(\"特征值：\",eigenvalues)\n",
    "print(\"特征向量：\",eigenvectors)\n",
    "\n",
    "x=np.linalg.solve(A,b)\n",
    "print(\"线性方程组的解：\",x)"
   ]
  }
 ],
 "metadata": {
  "kernelspec": {
   "display_name": "Python 3",
   "language": "python",
   "name": "python3"
  },
  "language_info": {
   "codemirror_mode": {
    "name": "ipython",
    "version": 3
   },
   "file_extension": ".py",
   "mimetype": "text/x-python",
   "name": "python",
   "nbconvert_exporter": "python",
   "pygments_lexer": "ipython3",
   "version": "3.12.6"
  }
 },
 "nbformat": 4,
 "nbformat_minor": 2
}
