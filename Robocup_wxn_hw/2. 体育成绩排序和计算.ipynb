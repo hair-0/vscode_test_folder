{
 "cells": [
  {
   "cell_type": "code",
   "execution_count": 2,
   "metadata": {},
   "outputs": [
    {
     "name": "stdout",
     "output_type": "stream",
     "text": [
      "平均分为: 88.88235294117646\n",
      "第2~10名的成绩： [97, 97, 97, 95, 93, 93, 92, 92, 92]\n"
     ]
    }
   ],
   "source": [
    "#2. 体育成绩排序和计算\n",
    "import numpy as np\n",
    "\n",
    "scores=[93,95,92,97,88,70,76,98,97,92,92,83,75,97,93,87,86]\n",
    "scores.sort(reverse=True)\n",
    "average=np.mean(scores)\n",
    "\n",
    "print(\"平均分为:\",average)\n",
    "print(\"第2~10名的成绩：\",scores[1:10])\n"
   ]
  }
 ],
 "metadata": {
  "kernelspec": {
   "display_name": "Python 3",
   "language": "python",
   "name": "python3"
  },
  "language_info": {
   "codemirror_mode": {
    "name": "ipython",
    "version": 3
   },
   "file_extension": ".py",
   "mimetype": "text/x-python",
   "name": "python",
   "nbconvert_exporter": "python",
   "pygments_lexer": "ipython3",
   "version": "3.12.6"
  }
 },
 "nbformat": 4,
 "nbformat_minor": 2
}
