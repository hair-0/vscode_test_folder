{
 "cells": [
  {
   "cell_type": "code",
   "execution_count": null,
   "metadata": {
    "ExecuteTime": {
     "end_time": "2025-03-01T10:16:22.601554Z",
     "start_time": "2025-03-01T10:16:22.592682Z"
    }
   },
   "outputs": [
    {
     "name": "stdout",
     "output_type": "stream",
     "text": [
      "面积等于= 12.56\n",
      "面积等于= 28.26\n"
     ]
    }
   ],
   "source": [
    "pi=3.14\n",
    "r=2\n",
    "area=pi*(r**2)\n",
    "print (\"面积等于=\",area)\n",
    "r=r+1\n",
    "area=pi*(r**2)\n",
    "print (\"面积等于=\",area)"
   ]
  },
  {
   "cell_type": "code",
   "execution_count": null,
   "metadata": {},
   "outputs": [
    {
     "name": "stdout",
     "output_type": "stream",
     "text": [
      "******\n",
      "\n",
      "******\n",
      "\n",
      "******\n",
      "\n"
     ]
    }
   ],
   "source": [
    "m = 3\n",
    "n = 6\n",
    "\n",
    "for i in range(m):  # 外循环，打印 m 行\n",
    "    for j in range(n):  # 内循环，每行打印 n 个星号\n",
    "        print(\"*\", end=\"\")  # end=\"\" 表示不换行\n",
    "    print(\"\\n\")"
   ]
  },
  {
   "cell_type": "code",
   "execution_count": null,
   "metadata": {},
   "outputs": [
    {
     "name": "stdout",
     "output_type": "stream",
     "text": [
      "9999 16\n"
     ]
    }
   ],
   "source": [
    "num=str(9999)\n",
    "trans=int(num,10)\n",
    "print(trans)"
   ]
  },
  {
   "cell_type": "code",
   "execution_count": 8,
   "metadata": {},
   "outputs": [
    {
     "name": "stdout",
     "output_type": "stream",
     "text": [
      "smile and remain smile\n"
     ]
    }
   ],
   "source": [
    "s1='smile '\n",
    "s2='and remain smile'\n",
    "s3=s1+s2\n",
    "print(s3)\n"
   ]
  },
  {
   "cell_type": "code",
   "execution_count": 3,
   "metadata": {
    "ExecuteTime": {
     "end_time": "2025-03-01T10:16:26.620274Z",
     "start_time": "2025-03-01T10:16:26.601545Z"
    }
   },
   "outputs": [
    {
     "name": "stdout",
     "output_type": "stream",
     "text": [
      "小明\n"
     ]
    }
   ],
   "source": [
    "kid = '小明'\n",
    "student = kid\n",
    "prettyboy = kid\n",
    "print(kid)"
   ]
  },
  {
   "cell_type": "code",
   "execution_count": 11,
   "metadata": {},
   "outputs": [
    {
     "data": {
      "text/plain": [
       "False"
      ]
     },
     "execution_count": 11,
     "metadata": {},
     "output_type": "execute_result"
    }
   ],
   "source": [
    "'American' > 'China'"
   ]
  },
  {
   "cell_type": "code",
   "execution_count": 6,
   "metadata": {},
   "outputs": [
    {
     "data": {
      "text/plain": [
       "0"
      ]
     },
     "execution_count": 6,
     "metadata": {},
     "output_type": "execute_result"
    }
   ],
   "source": [
    "False+0"
   ]
  },
  {
   "cell_type": "code",
   "execution_count": 23,
   "metadata": {
    "ExecuteTime": {
     "end_time": "2025-03-01T10:01:05.298666Z",
     "start_time": "2025-03-01T10:01:05.294658Z"
    }
   },
   "outputs": [
    {
     "name": "stdout",
     "output_type": "stream",
     "text": [
      "30\n"
     ]
    }
   ],
   "source": [
    "num_str = 10\n",
    "print(num_str * 3)  # 输出 \"101010\"（字符串重复）"
   ]
  },
  {
   "cell_type": "code",
   "execution_count": 4,
   "metadata": {
    "ExecuteTime": {
     "end_time": "2025-03-01T10:16:33.690312Z",
     "start_time": "2025-03-01T10:16:33.676349Z"
    }
   },
   "outputs": [
    {
     "name": "stdout",
     "output_type": "stream",
     "text": [
      "101010\n"
     ]
    }
   ],
   "source": [
    "num_str = \"10\"\n",
    "print(num_str * 3)  # 输出 \"101010\"（字符串重复）"
   ]
  },
  {
   "cell_type": "code",
   "execution_count": 25,
   "metadata": {
    "ExecuteTime": {
     "end_time": "2025-03-01T10:01:05.332511Z",
     "start_time": "2025-03-01T10:01:05.324815Z"
    }
   },
   "outputs": [
    {
     "name": "stdout",
     "output_type": "stream",
     "text": [
      "123\n"
     ]
    }
   ],
   "source": [
    "print(\"123\")"
   ]
  },
  {
   "cell_type": "code",
   "execution_count": 26,
   "metadata": {
    "ExecuteTime": {
     "end_time": "2025-03-01T10:01:05.366503Z",
     "start_time": "2025-03-01T10:01:05.332511Z"
    }
   },
   "outputs": [
    {
     "name": "stdout",
     "output_type": "stream",
     "text": [
      "hello,world\n"
     ]
    }
   ],
   "source": [
    "print(\"hello,world\")"
   ]
  },
  {
   "cell_type": "code",
   "execution_count": 5,
   "metadata": {
    "ExecuteTime": {
     "end_time": "2025-03-01T10:16:38.748161Z",
     "start_time": "2025-03-01T10:16:38.733965Z"
    }
   },
   "outputs": [
    {
     "name": "stdout",
     "output_type": "stream",
     "text": [
      "123444\n"
     ]
    }
   ],
   "source": [
    "print(\"123444\")"
   ]
  },
  {
   "cell_type": "code",
   "execution_count": 28,
   "metadata": {
    "ExecuteTime": {
     "end_time": "2025-03-01T10:01:05.404485Z",
     "start_time": "2025-03-01T10:01:05.386910Z"
    }
   },
   "outputs": [
    {
     "name": "stdout",
     "output_type": "stream",
     "text": [
      "我最爱的运动有：足球---我最爱的运动有：蓝球\n"
     ]
    }
   ],
   "source": [
    "myFavorit = '我最爱的运动有：'\n",
    "sport1 = '足球'\n",
    "sport2 = '蓝球'\n",
    "print( myFavorit + sport1 + '---' + myFavorit + sport2 )"
   ]
  },
  {
   "cell_type": "code",
   "execution_count": 1,
   "metadata": {
    "ExecuteTime": {
     "end_time": "2025-03-01T10:31:14.320531Z",
     "start_time": "2025-03-01T10:31:14.310214Z"
    }
   },
   "outputs": [
    {
     "name": "stdout",
     "output_type": "stream",
     "text": [
      "这条语句在return后面，不会执行\n",
      "5\n"
     ]
    }
   ],
   "source": [
    "def squarep(num1,num2):\n",
    "    return num1**2 + num2**2\n",
    "    \n",
    "print('这条语句在return后面，不会执行')\n",
    "\n",
    "ret = squarep(1,2)\n",
    "print(ret)"
   ]
  },
  {
   "cell_type": "code",
   "execution_count": 30,
   "metadata": {
    "ExecuteTime": {
     "end_time": "2025-03-01T10:01:05.449178Z",
     "start_time": "2025-03-01T10:01:05.421291Z"
    }
   },
   "outputs": [
    {
     "name": "stdout",
     "output_type": "stream",
     "text": [
      "这条语句在return后面，不会执行\n",
      "5\n"
     ]
    }
   ],
   "source": [
    "def squarep(num1,num2):\n",
    "    return num1**2 + num2**2\n",
    "print('这条语句在return后面，不会执行')\n",
    "\n",
    "ret = squarep(1,2)\n",
    "print(ret)"
   ]
  },
  {
   "cell_type": "code",
   "execution_count": 31,
   "metadata": {
    "ExecuteTime": {
     "end_time": "2025-03-01T10:01:05.469644Z",
     "start_time": "2025-03-01T10:01:05.451037Z"
    }
   },
   "outputs": [
    {
     "name": "stdout",
     "output_type": "stream",
     "text": [
      "求职者是 王小五\n",
      "把求职者带到3号会议室\n",
      "请求职者 完成答卷\n",
      "让测试经理来面试 求职者\n",
      "让技术总监面试 求职者\n"
     ]
    }
   ],
   "source": [
    "def interview(interviewee):\n",
    "    print(\"求职者是 \" + interviewee)\n",
    "    print(\"把求职者带到3号会议室\")\n",
    "    print(\"请求职者 完成答卷\")\n",
    "    print(\"让测试经理来面试 求职者\")\n",
    "    print(\"让技术总监面试 求职者\")\n",
    "\n",
    "interview('王小五')"
   ]
  },
  {
   "cell_type": "code",
   "execution_count": 32,
   "metadata": {
    "ExecuteTime": {
     "end_time": "2025-03-01T10:01:05.485472Z",
     "start_time": "2025-03-01T10:01:05.470650Z"
    }
   },
   "outputs": [
    {
     "name": "stdout",
     "output_type": "stream",
     "text": [
      "把求职者带到3号会议室\n",
      "请求职者 完成答卷\n",
      "让测试经理来面试 求职者\n",
      "让技术总监面试 求职者\n"
     ]
    }
   ],
   "source": [
    "def interview():\n",
    "    print(\"把求职者带到3号会议室\")\n",
    "    print(\"请求职者 完成答卷\")\n",
    "    print(\"让测试经理来面试 求职者\")\n",
    "    print(\"让技术总监面试 求职者\")\n",
    "interview()"
   ]
  },
  {
   "cell_type": "code",
   "execution_count": 33,
   "metadata": {
    "ExecuteTime": {
     "end_time": "2025-03-01T10:01:05.512038Z",
     "start_time": "2025-03-01T10:01:05.488482Z"
    }
   },
   "outputs": [
    {
     "data": {
      "text/plain": [
       "int"
      ]
     },
     "execution_count": 33,
     "metadata": {},
     "output_type": "execute_result"
    }
   ],
   "source": [
    "type(4)"
   ]
  },
  {
   "cell_type": "code",
   "execution_count": 34,
   "metadata": {},
   "outputs": [
    {
     "name": "stdout",
     "output_type": "stream",
     "text": [
      "43 561\n"
     ]
    }
   ],
   "source": [
    "age=43\n",
    "weather=561\n",
    "print(age,weather)"
   ]
  },
  {
   "cell_type": "code",
   "execution_count": 6,
   "metadata": {},
   "outputs": [
    {
     "name": "stdout",
     "output_type": "stream",
     "text": [
      "233 45\n"
     ]
    }
   ],
   "source": [
    "age,   weather             =       233,45\n",
    "print(             age,      weather)"
   ]
  },
  {
   "cell_type": "code",
   "execution_count": 5,
   "metadata": {
    "ExecuteTime": {
     "end_time": "2025-03-01T10:36:10.803717Z",
     "start_time": "2025-03-01T10:36:10.799427Z"
    }
   },
   "outputs": [
    {
     "name": "stdout",
     "output_type": "stream",
     "text": [
      "2034-01-23\n"
     ]
    }
   ],
   "source": [
    "startTime = '2034-01-23'\n",
    "print(startTime)"
   ]
  },
  {
   "cell_type": "code",
   "execution_count": 3,
   "metadata": {
    "ExecuteTime": {
     "end_time": "2025-03-01T10:32:43.735435Z",
     "start_time": "2025-03-01T10:32:43.731289Z"
    }
   },
   "outputs": [
    {
     "name": "stdout",
     "output_type": "stream",
     "text": [
      "chips\n",
      "\n",
      "bread\n",
      "\n",
      "apple\n",
      "\n"
     ]
    }
   ],
   "source": [
    "foods=['chips','bread','apple']\n",
    "for a in foods:\n",
    "    print (a+'\\n')"
   ]
  },
  {
   "cell_type": "code",
   "execution_count": 4,
   "metadata": {
    "ExecuteTime": {
     "end_time": "2025-03-01T10:34:00.638304Z",
     "start_time": "2025-03-01T10:34:00.634468Z"
    }
   },
   "outputs": [
    {
     "name": "stdout",
     "output_type": "stream",
     "text": [
      "Hello world!\n"
     ]
    }
   ],
   "source": [
    "print(\"Hello world!\")"
   ]
  },
  {
   "cell_type": "code",
   "execution_count": 1,
   "metadata": {
    "ExecuteTime": {
     "end_time": "2025-03-04T02:07:49.351814Z",
     "start_time": "2025-03-04T02:07:49.347948Z"
    }
   },
   "outputs": [
    {
     "name": "stdout",
     "output_type": "stream",
     "text": [
      "False\n",
      "False\n",
      "False\n"
     ]
    }
   ],
   "source": [
    "y = 5\n",
    "x = (y < 4)\t\t\n",
    "print(x)\t\n",
    "\n",
    "flower = \"flower\"\n",
    "kong = 0\n",
    "se = 1\n",
    "print(flower != flower)\n",
    "print(kong == se)\n"
   ]
  },
  {
   "cell_type": "code",
   "execution_count": null,
   "metadata": {},
   "outputs": [],
   "source": [
    "import math\n",
    "r=float(input())\n",
    "s=(math.pi)*(r**2)\n",
    "print(s)"
   ]
  },
  {
   "cell_type": "code",
   "execution_count": 5,
   "metadata": {},
   "outputs": [
    {
     "name": "stdout",
     "output_type": "stream",
     "text": [
      "求职者是 王小五\n",
      "把求职者带到3号会议室\n",
      "请求职者 完成答卷\n",
      "让测试经理来面试 求职者\n",
      "让技术总监面试 求职者\n"
     ]
    }
   ],
   "source": [
    "def interview(interviewee):\n",
    "    print(\"求职者是 \" + interviewee)\n",
    "    print(\"把求职者带到3号会议室\")\n",
    "    print(\"请求职者 完成答卷\")\n",
    "    print(\"让测试经理来面试 求职者\")\n",
    "    print(\"让技术总监面试 求职者\")\n",
    "\n",
    "interview('王小五')"
   ]
  },
  {
   "cell_type": "code",
   "execution_count": 5,
   "metadata": {},
   "outputs": [
    {
     "name": "stdout",
     "output_type": "stream",
     "text": [
      "  1     1       1\n",
      "  2     4       8\n",
      "  3     9      27\n",
      "  4    16      64\n",
      "  5    25     125\n",
      "  6    36     216\n",
      "  7    49     343\n",
      "  8    64     512\n",
      "  9    81     729\n",
      " 10   100    1000\n"
     ]
    }
   ],
   "source": [
    "for i in range(1, 11):\n",
    "    print(\"%3d %5d %7d\" % (i,i**2,i**3))\n"
   ]
  },
  {
   "cell_type": "code",
   "execution_count": 8,
   "metadata": {},
   "outputs": [
    {
     "name": "stdout",
     "output_type": "stream",
     "text": [
      "  1    1      1   2    4      8   3    9     27   4   16     64   5   25    125   6   36    216   7   49    343   8   64    512   9   81    729  10  100   1000 "
     ]
    }
   ],
   "source": [
    "for i in range (1,11):\n",
    "\tprint (f\"{i:3d}{i**2:5d}{i**3:7d}\",end=' ')"
   ]
  },
  {
   "cell_type": "code",
   "execution_count": 6,
   "metadata": {},
   "outputs": [
    {
     "name": "stdout",
     "output_type": "stream",
     "text": [
      "对应的汉字是：五\n"
     ]
    }
   ],
   "source": [
    "upChars = '零壹贰叁肆伍陆柒捌玖'\n",
    "def getZh(num):\n",
    "    upChars = '零一二三四五六七八九'\n",
    "    print('对应的汉字是：' + upChars[num])\n",
    "\n",
    "getZh(5)"
   ]
  },
  {
   "cell_type": "code",
   "execution_count": 9,
   "metadata": {},
   "outputs": [
    {
     "name": "stdout",
     "output_type": "stream",
     "text": [
      "零壹贰叁肆伍陆柒捌玖\n"
     ]
    }
   ],
   "source": [
    "upChars = '零壹贰叁肆伍陆柒捌玖'\n",
    "def change():\n",
    "    upChars = '零一二三四五六七八九'\n",
    "\n",
    "change()\n",
    "print(upChars)\n"
   ]
  },
  {
   "cell_type": "code",
   "execution_count": 11,
   "metadata": {},
   "outputs": [
    {
     "name": "stdout",
     "output_type": "stream",
     "text": [
      "零一二三四五六七八九\n"
     ]
    }
   ],
   "source": [
    "upChars = '零壹贰叁肆伍陆柒捌玖'\n",
    "def change():\n",
    "    global upChars \n",
    "    upChars = '零一二三四五六七八九'\n",
    "\n",
    "change()\n",
    "print(upChars)"
   ]
  },
  {
   "cell_type": "code",
   "execution_count": null,
   "metadata": {},
   "outputs": [
    {
     "data": {
      "text/plain": [
       "int"
      ]
     },
     "execution_count": 16,
     "metadata": {},
     "output_type": "execute_result"
    }
   ],
   "source": [
    "type(3)"
   ]
  },
  {
   "cell_type": "code",
   "execution_count": 1,
   "metadata": {},
   "outputs": [
    {
     "name": "stdout",
     "output_type": "stream",
     "text": [
      "4\n"
     ]
    }
   ],
   "source": [
    "print(int(4))"
   ]
  },
  {
   "cell_type": "code",
   "execution_count": 2,
   "metadata": {
    "ExecuteTime": {
     "end_time": "2025-03-10T14:20:03.270974Z",
     "start_time": "2025-03-10T14:19:56.872477Z"
    }
   },
   "outputs": [
    {
     "name": "stdout",
     "output_type": "stream",
     "text": [
      "14\n"
     ]
    }
   ],
   "source": [
    "a=int(input())\n",
    "print(a+2)"
   ]
  },
  {
   "cell_type": "code",
   "execution_count": 2,
   "metadata": {},
   "outputs": [
    {
     "name": "stdout",
     "output_type": "stream",
     "text": [
      "12.0\n"
     ]
    }
   ],
   "source": [
    "height=120\n",
    "height/=10\n",
    "print(height)\n"
   ]
  },
  {
   "cell_type": "code",
   "execution_count": 7,
   "metadata": {},
   "outputs": [
    {
     "data": {
      "text/plain": [
       "0.7071067811865476"
      ]
     },
     "execution_count": 7,
     "metadata": {},
     "output_type": "execute_result"
    }
   ],
   "source": [
    "import math\n",
    "math.sqrt(1/2)"
   ]
  },
  {
   "cell_type": "code",
   "execution_count": 1,
   "metadata": {},
   "outputs": [
    {
     "name": "stdout",
     "output_type": "stream",
     "text": [
      "4\n"
     ]
    }
   ],
   "source": [
    "import random\n",
    "target=random.randint(1,6)\n",
    "print(target)"
   ]
  },
  {
   "cell_type": "code",
   "execution_count": 1,
   "metadata": {},
   "outputs": [
    {
     "name": "stdout",
     "output_type": "stream",
     "text": [
      "45\n"
     ]
    }
   ],
   "source": [
    "sum = 0\n",
    "i = 1\n",
    "while i != 10:\n",
    "    sum = sum + i \n",
    "    i = i + 1\n",
    "print(sum)\n"
   ]
  },
  {
   "cell_type": "code",
   "execution_count": null,
   "metadata": {},
   "outputs": [
    {
     "name": "stdout",
     "output_type": "stream",
     "text": [
      "tho\n",
      "作操片切nohtyP\n"
     ]
    }
   ],
   "source": [
    "text = \"Python切片操作\"\n",
    "print(text[2:5])   # 输出 \"tho\"（索引 2 到 4）。\n",
    "print(text[::-1])  # 输出 \"作操片切nohtyP\"（字符串倒序）。\n"
   ]
  },
  {
   "cell_type": "code",
   "execution_count": 2,
   "metadata": {},
   "outputs": [
    {
     "name": "stdout",
     "output_type": "stream",
     "text": [
      "140728680907752 140728680907752\n"
     ]
    }
   ],
   "source": [
    "a=3\n",
    "b=3\n",
    "print(id(a),id(b))"
   ]
  },
  {
   "cell_type": "code",
   "execution_count": 10,
   "metadata": {},
   "outputs": [
    {
     "name": "stdout",
     "output_type": "stream",
     "text": [
      "True\n"
     ]
    }
   ],
   "source": [
    "p=256\n",
    "q=256\n",
    "print(id(p)==id(q))"
   ]
  },
  {
   "cell_type": "code",
   "execution_count": 12,
   "metadata": {},
   "outputs": [
    {
     "name": "stdout",
     "output_type": "stream",
     "text": [
      "2.0\n"
     ]
    }
   ],
   "source": [
    "print(6/3)"
   ]
  },
  {
   "cell_type": "code",
   "execution_count": 14,
   "metadata": {},
   "outputs": [
    {
     "name": "stdout",
     "output_type": "stream",
     "text": [
      "False\n"
     ]
    }
   ],
   "source": [
    "y = 5\n",
    "x = (y < 4)\t\t\n",
    "print(x)\t\n",
    "\n"
   ]
  },
  {
   "cell_type": "code",
   "execution_count": 19,
   "metadata": {},
   "outputs": [
    {
     "name": "stdout",
     "output_type": "stream",
     "text": [
      "你是否想借书? (y/n)\n"
     ]
    }
   ],
   "source": [
    "while True:\n",
    "        print(\"你是否想借书? (y/n)\")\n",
    "        choice = input()\n",
    "        if  choice == 'y'  or  choice == 'n' :\n",
    "                break\n"
   ]
  },
  {
   "cell_type": "code",
   "execution_count": 23,
   "metadata": {},
   "outputs": [
    {
     "name": "stdout",
     "output_type": "stream",
     "text": [
      "*\n",
      "*\n",
      "*\n",
      "*\n",
      "*\n",
      "*\n",
      "*\n",
      "*\n",
      "*\n",
      "*\n",
      "*\n",
      "*\n",
      "*\n",
      "*\n",
      "*\n",
      "*\n",
      "*\n",
      "*\n"
     ]
    }
   ],
   "source": [
    "\n",
    "\n",
    "m = 3\n",
    "n = 6\t\n",
    "for i in range(m):                   # 外循环，打印m行\n",
    "        for j in range(n):            # 内循环，每行n列\n",
    "                print(\"*\")\n",
    "                           # 换行\n",
    "\n"
   ]
  },
  {
   "cell_type": "code",
   "execution_count": 25,
   "metadata": {},
   "outputs": [
    {
     "name": "stdout",
     "output_type": "stream",
     "text": [
      "Impossible is nothing Just do it!"
     ]
    }
   ],
   "source": [
    "s = \"Impossible is nothing Just do it!\"\n",
    "for ch in s: \n",
    "    print(ch,end='')\n"
   ]
  }
 ],
 "metadata": {
  "kernelspec": {
   "display_name": "Python 3",
   "language": "python",
   "name": "python3"
  },
  "language_info": {
   "codemirror_mode": {
    "name": "ipython",
    "version": 3
   },
   "file_extension": ".py",
   "mimetype": "text/x-python",
   "name": "python",
   "nbconvert_exporter": "python",
   "pygments_lexer": "ipython3",
   "version": "3.13.1"
  }
 },
 "nbformat": 4,
 "nbformat_minor": 2
}
